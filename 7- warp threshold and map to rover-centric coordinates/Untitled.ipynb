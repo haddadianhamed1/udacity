{
 "cells": [
  {
   "cell_type": "markdown",
   "metadata": {},
   "source": [
    "From a raw image to navigable terrain in rover-centric coordinates. Note: the images in the lower left and lower right represent the same data after a change of coordinate system.\n",
    "\n"
   ]
  },
  {
   "cell_type": "markdown",
   "metadata": {},
   "source": [
    "To make a map of the environment, you're going to first apply a perspective transform and then apply a color threshold (or vice versa, doesn't really matter). This color thresholded image is now a map of the navigable terrain in front of the rover! Suppose you arrived at the thresholded binary image by combining the functions you wrote in the last two exercises, like this:"
   ]
  },
  {
   "cell_type": "code",
   "execution_count": null,
   "metadata": {},
   "outputs": [],
   "source": [
    "import matplotlib.pyplot as plt\n",
    "import matplotlib.image as mpimg\n",
    "# Uncomment the next line for use in a Jupyter notebook\n",
    "#%matplotlib inline\n",
    "import numpy as np\n",
    "import cv2\n",
    "\n",
    "# Read in the same sample image as before\n",
    "image = mpimg.imread('sample.jpg')\n",
    "\n",
    "# Assume you have already defined perspect_transform() and color_thresh()\n",
    "warped = perspect_transform(image)\n",
    "colorsel = color_thresh(warped, rgb_thresh=(160, 160, 160))\n",
    "\n",
    "# Plot the result\n",
    "plt.imshow(colorsel, cmap='gray')\n",
    "plt.show()"
   ]
  }
 ],
 "metadata": {
  "kernelspec": {
   "display_name": "Python [conda env:RoboND]",
   "language": "python",
   "name": "conda-env-RoboND-py"
  },
  "language_info": {
   "codemirror_mode": {
    "name": "ipython",
    "version": 3
   },
   "file_extension": ".py",
   "mimetype": "text/x-python",
   "name": "python",
   "nbconvert_exporter": "python",
   "pygments_lexer": "ipython3",
   "version": "3.5.2"
  },
  "widgets": {
   "state": {},
   "version": "1.1.2"
  }
 },
 "nbformat": 4,
 "nbformat_minor": 2
}
